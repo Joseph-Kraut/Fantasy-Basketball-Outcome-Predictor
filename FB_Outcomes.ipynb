{
 "cells": [
  {
   "cell_type": "code",
   "execution_count": 92,
   "metadata": {},
   "outputs": [],
   "source": [
    "import pandas as pd\n",
    "import numpy as np\n",
    "import matplotlib.pyplot as plt"
   ]
  },
  {
   "cell_type": "code",
   "execution_count": 93,
   "metadata": {},
   "outputs": [],
   "source": [
    "my_team = ['Carroll', 'James', 'Valanciunas', 'Oubre']\n",
    "other_team = ['Love', 'Harris', 'DeRozan', 'Vucevic']\n",
    "both_teams = my_team + other_team"
   ]
  },
  {
   "cell_type": "code",
   "execution_count": 94,
   "metadata": {},
   "outputs": [],
   "source": [
    "#load in all the data\n",
    "lbj = pd.read_csv(\"data/lbj.csv\")\n",
    "dc = pd.read_csv(\"data/dc.csv\")\n",
    "jv = pd.read_csv(\"data/jv.csv\")\n",
    "ko = pd.read_csv(\"data/ko.csv\")\n",
    "kl = pd.read_csv(\"data/kl.csv\")\n",
    "th = pd.read_csv(\"data/th.csv\")\n",
    "dd = pd.read_csv(\"data/dd.csv\")\n",
    "nv = pd.read_csv(\"data/nv.csv\")\n",
    "lst_data = [lbj, dc, jv, ko, kl, th, dd, nv,]"
   ]
  },
  {
   "cell_type": "code",
   "execution_count": 95,
   "metadata": {},
   "outputs": [
    {
     "data": {
      "text/plain": [
       "Index(['PLAYER', 'TEAM', 'DATE', 'MATCHUP', 'W/L', 'MIN', 'PTS', 'FGM', 'FGA',\n",
       "       'FG%', '3PM', '3PA', '3P%', 'FTM', 'FTA', 'FT%', 'OREB', 'DREB', 'REB',\n",
       "       'AST', 'STL', 'BLK', 'TOV', 'PF', '+/-'],\n",
       "      dtype='object')"
      ]
     },
     "execution_count": 95,
     "metadata": {},
     "output_type": "execute_result"
    }
   ],
   "source": [
    "#the columns in the dataset\n",
    "lbj.columns"
   ]
  },
  {
   "cell_type": "code",
   "execution_count": 138,
   "metadata": {},
   "outputs": [],
   "source": [
    "#concatenate all the data into a single DataFrame\n",
    "complete_data = pd.concat(lst_data, ignore_index=True)"
   ]
  },
  {
   "cell_type": "code",
   "execution_count": 139,
   "metadata": {},
   "outputs": [
    {
     "data": {
      "text/plain": [
       "(222, 25)"
      ]
     },
     "execution_count": 139,
     "metadata": {},
     "output_type": "execute_result"
    }
   ],
   "source": [
    "#the dataset comes with padding rows for future games, so we drop those as they're full of NaN values\n",
    "complete_data = complete_data.dropna(axis=0, how='any')\n",
    "shape = complete_data.shape\n",
    "shape"
   ]
  },
  {
   "cell_type": "code",
   "execution_count": 195,
   "metadata": {},
   "outputs": [],
   "source": [
    "#data cleaning funcitons\n",
    "def clean_player_name(row):\n",
    "    name = row.PLAYER\n",
    "    start_index = 0\n",
    "    end_index = 0\n",
    "    for i in range(len(name)):\n",
    "        if name[i] == \"<\":\n",
    "            start_index = i\n",
    "        elif name[i] == \">\":\n",
    "            end_index = i + 1\n",
    "    return name[:start_index] + name[end_index:]\n",
    "\n",
    "\n",
    "def double_double(row):\n",
    "    return int(np.count_nonzero(np.array([row.PTS, row.AST, row.REB]) >= 10) >= 2)\n",
    "\n",
    "def triple_double(row):\n",
    "    return int(np.count_nonzero(np.array([row.PTS, row.AST, row.REB]) >= 10) >= 3)\n",
    "\n",
    "def fantasy_points(row):\n",
    "    return row.FGMI * -0.5 + row.FTMI * -0.5 + row['3PM'] * 1 + row.REB * 1 + row.AST * 1.5 + row.STL * 3 + row.BLK * 3 + row.TOV * -1 + row.DD * 5 + row.TD * 10 + row.PTS * 1   "
   ]
  },
  {
   "cell_type": "code",
   "execution_count": 196,
   "metadata": {},
   "outputs": [],
   "source": [
    "#clean the player name data so it's easier to search for individual players\n",
    "complete_data.PLAYER = complete_data.apply(clean_player_name, axis=1)"
   ]
  },
  {
   "cell_type": "code",
   "execution_count": 197,
   "metadata": {},
   "outputs": [
    {
     "data": {
      "text/plain": [
       "Index(['PLAYER', 'TEAM', 'DATE', 'MATCHUP', 'W/L', 'MIN', 'PTS', 'FGM', 'FGA',\n",
       "       'FG%', '3PM', '3PA', '3P%', 'FTM', 'FTA', 'FT%', 'OREB', 'DREB', 'REB',\n",
       "       'AST', 'STL', 'BLK', 'TOV', 'PF', '+/-'],\n",
       "      dtype='object')"
      ]
     },
     "execution_count": 197,
     "metadata": {},
     "output_type": "execute_result"
    }
   ],
   "source": [
    "complete_data.columns"
   ]
  },
  {
   "cell_type": "code",
   "execution_count": 198,
   "metadata": {},
   "outputs": [
    {
     "data": {
      "text/plain": [
       "(222, 25)"
      ]
     },
     "execution_count": 198,
     "metadata": {},
     "output_type": "execute_result"
    }
   ],
   "source": [
    "complete_data.shape"
   ]
  },
  {
   "cell_type": "code",
   "execution_count": 199,
   "metadata": {
    "scrolled": true
   },
   "outputs": [
    {
     "name": "stderr",
     "output_type": "stream",
     "text": [
      "/Library/Frameworks/Python.framework/Versions/3.6/lib/python3.6/site-packages/ipykernel_launcher.py:3: SettingWithCopyWarning: \n",
      "A value is trying to be set on a copy of a slice from a DataFrame.\n",
      "Try using .loc[row_indexer,col_indexer] = value instead\n",
      "\n",
      "See the caveats in the documentation: http://pandas.pydata.org/pandas-docs/stable/indexing.html#indexing-view-versus-copy\n",
      "  This is separate from the ipykernel package so we can avoid doing imports until\n",
      "/Library/Frameworks/Python.framework/Versions/3.6/lib/python3.6/site-packages/ipykernel_launcher.py:4: SettingWithCopyWarning: \n",
      "A value is trying to be set on a copy of a slice from a DataFrame.\n",
      "Try using .loc[row_indexer,col_indexer] = value instead\n",
      "\n",
      "See the caveats in the documentation: http://pandas.pydata.org/pandas-docs/stable/indexing.html#indexing-view-versus-copy\n",
      "  after removing the cwd from sys.path.\n",
      "/Library/Frameworks/Python.framework/Versions/3.6/lib/python3.6/site-packages/ipykernel_launcher.py:5: SettingWithCopyWarning: \n",
      "A value is trying to be set on a copy of a slice from a DataFrame.\n",
      "Try using .loc[row_indexer,col_indexer] = value instead\n",
      "\n",
      "See the caveats in the documentation: http://pandas.pydata.org/pandas-docs/stable/indexing.html#indexing-view-versus-copy\n",
      "  \"\"\"\n",
      "/Library/Frameworks/Python.framework/Versions/3.6/lib/python3.6/site-packages/ipykernel_launcher.py:6: SettingWithCopyWarning: \n",
      "A value is trying to be set on a copy of a slice from a DataFrame.\n",
      "Try using .loc[row_indexer,col_indexer] = value instead\n",
      "\n",
      "See the caveats in the documentation: http://pandas.pydata.org/pandas-docs/stable/indexing.html#indexing-view-versus-copy\n",
      "  \n",
      "/Library/Frameworks/Python.framework/Versions/3.6/lib/python3.6/site-packages/ipykernel_launcher.py:7: SettingWithCopyWarning: \n",
      "A value is trying to be set on a copy of a slice from a DataFrame.\n",
      "Try using .loc[row_indexer,col_indexer] = value instead\n",
      "\n",
      "See the caveats in the documentation: http://pandas.pydata.org/pandas-docs/stable/indexing.html#indexing-view-versus-copy\n",
      "  import sys\n"
     ]
    }
   ],
   "source": [
    "#we need a few more columns to analyze fantasy points so i'll add them here\n",
    "relevant_data = complete_data[['PLAYER', 'PTS', 'AST', 'REB', 'STL', 'TOV', 'BLK', '3PM']]\n",
    "relevant_data['FGMI'] = complete_data['FGA'] - complete_data['FGM']\n",
    "relevant_data['FTMI'] = complete_data['FTA'] - complete_data['FTM']\n",
    "relevant_data['DD'] = relevant_data.apply(double_double, axis=1)\n",
    "relevant_data['TD'] = relevant_data.apply(triple_double, axis=1)\n",
    "relevant_data['FPS'] = relevant_data.apply(fantasy_points, axis=1)"
   ]
  },
  {
   "cell_type": "code",
   "execution_count": 215,
   "metadata": {},
   "outputs": [],
   "source": [
    "#here we define two functions to sample a test statistic for each team\n",
    "#we will combine these test statistics to be a difference in points\n",
    "def team_stat(team):\n",
    "    #first we want to sample a random set of fantasy points\n",
    "    total = 0\n",
    "    for name in team:\n",
    "        name_data = relevant_data.loc[relevant_data.PLAYER.str.contains(name)] #filtered by name\n",
    "        total += name_data.sample().FPS.item()\n",
    "    return total\n"
   ]
  },
  {
   "cell_type": "code",
   "execution_count": 218,
   "metadata": {},
   "outputs": [],
   "source": [
    "results = []\n",
    "for i in range(10000):\n",
    "    mine = team_stat(my_team)\n",
    "    theirs = team_stat(other_team)\n",
    "    results += [theirs - mine]\n"
   ]
  },
  {
   "cell_type": "code",
   "execution_count": 221,
   "metadata": {},
   "outputs": [],
   "source": [
    "results = np.array(results)"
   ]
  },
  {
   "cell_type": "code",
   "execution_count": 236,
   "metadata": {},
   "outputs": [
    {
     "data": {
      "image/png": "[encoded data removed]",
      "text/plain": [
       "<matplotlib.figure.Figure at 0x111eb4c50>"
      ]
     },
     "metadata": {},
     "output_type": "display_data"
    }
   ],
   "source": [
    "plt.hist(results, normed=True)\n",
    "plt.axvline(x=40, color='red')\n",
    "plt.show()"
   ]
  },
  {
   "cell_type": "code",
   "execution_count": 227,
   "metadata": {},
   "outputs": [],
   "source": [
    "chance = 1 - np.count_nonzero(results >= 40) / 10000"
   ]
  },
  {
   "cell_type": "code",
   "execution_count": 229,
   "metadata": {},
   "outputs": [
    {
     "name": "stdout",
     "output_type": "stream",
     "text": [
      "You have a 80.01% chance of winning\n"
     ]
    }
   ],
   "source": [
    "print(\"You have a {0}% chance of winning\".format(chance * 100))"
   ]
  },
  {
   "cell_type": "code",
   "execution_count": 244,
   "metadata": {},
   "outputs": [],
   "source": [
    "#now construct a confidence interval\n",
    "chances = []\n",
    "for i in range(100):\n",
    "    results = []\n",
    "    for j in range(1000):\n",
    "        mine = team_stat(my_team)\n",
    "        theirs = team_stat(other_team)\n",
    "        results += [theirs - mine]\n",
    "    results = np.array(results)\n",
    "    chances += [1 - np.count_nonzero(results >= 40) / 1000]\n",
    "\n",
    "chances = np.array(chances)"
   ]
  },
  {
   "cell_type": "code",
   "execution_count": 249,
   "metadata": {},
   "outputs": [
    {
     "data": {
      "image/png": "[encoded data removed]",
      "text/plain": [
       "<matplotlib.figure.Figure at 0x111c83e80>"
      ]
     },
     "metadata": {},
     "output_type": "display_data"
    },
    {
     "name": "stdout",
     "output_type": "stream",
     "text": [
      "95% Confidence Interval: [0.77700, 0.77700]\n"
     ]
    }
   ],
   "source": [
    "lower = np.percentile(chances, 2.5)\n",
    "upper = np.percentile(chances, 97.5)\n",
    "plt.hist(chances, color=\"#33FF99\")\n",
    "plt.show()\n",
    "print(\"95% Confidence Interval: [{0:.5f}, {0:.5f}]\".format(lower, upper))"
   ]
  }
 ],
 "metadata": {
  "kernelspec": {
   "display_name": "Python 3",
   "language": "python",
   "name": "python3"
  },
  "language_info": {
   "codemirror_mode": {
    "name": "ipython",
    "version": 3
   },
   "file_extension": ".py",
   "mimetype": "text/x-python",
   "name": "python",
   "nbconvert_exporter": "python",
   "pygments_lexer": "ipython3",
   "version": "3.6.2"
  }
 },
 "nbformat": 4,
 "nbformat_minor": 2
}
